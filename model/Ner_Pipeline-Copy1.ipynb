{
 "cells": [
  {
   "cell_type": "code",
   "execution_count": 3,
   "metadata": {
    "id": "HSv6T3xEuJLD"
   },
   "outputs": [],
   "source": [
    "#! pip install datasets transformers seqeval pytorch_lightning mlflow livelossplot\n",
    "# mlflow ui --backend-store-uri sqlite:///mlruns.db"
   ]
  },
  {
   "cell_type": "code",
   "execution_count": 4,
   "metadata": {
    "id": "O2KRyiG7ZBfC"
   },
   "outputs": [],
   "source": [
    "from datasets import load_dataset, load_metric\n",
    "import torch , tensorflow, time,os\n",
    "import transformers\n",
    "from transformers import AutoTokenizer ,AutoModel,AutoConfig\n",
    "\n",
    "import matplotlib.pyplot as plt\n",
    "import pandas as pd\n",
    "import numpy as np\n",
    "\n",
    "import tensorflow as tf\n",
    "from tensorflow.keras.preprocessing.sequence import pad_sequences\n",
    "from tensorflow.keras import Model, Input\n",
    "from tensorflow.keras.layers import LSTM, Embedding, Dense\n",
    "from tensorflow.keras.layers import TimeDistributed, SpatialDropout1D, Bidirectional\n",
    "from tensorflow.keras.callbacks import ModelCheckpoint, EarlyStopping\n",
    "from livelossplot.tf_keras import PlotLossesCallback\n",
    "import mlflow\n",
    "\n",
    "%matplotlib inline\n",
    "np.random.seed(0)\n",
    "plt.style.use(\"ggplot\")"
   ]
  },
  {
   "cell_type": "code",
   "execution_count": 5,
   "metadata": {
    "colab": {
     "base_uri": "https://localhost:8080/"
    },
    "id": "hQe5qgltuNNQ",
    "outputId": "ff166413-891f-4d9b-9196-95487e97e1bb"
   },
   "outputs": [
    {
     "name": "stderr",
     "output_type": "stream",
     "text": [
      "Reusing dataset conll2003 (C:\\Users\\a809913\\.cache\\huggingface\\datasets\\conll2003\\conll2003\\1.0.0\\40e7cb6bcc374f7c349c83acd1e9352a4f09474eb691f64f364ee62eb65d0ca6)\n"
     ]
    },
    {
     "name": "stdout",
     "output_type": "stream",
     "text": [
      "label list: ['O', 'B-PER', 'I-PER', 'B-ORG', 'I-ORG', 'B-LOC', 'I-LOC', 'B-MISC', 'I-MISC']\n"
     ]
    }
   ],
   "source": [
    "task = \"ner\" # Should be one of \"ner\", \"pos\" or \"chunk\"\n",
    "model_checkpoint = 'elastic/distilbert-base-cased-finetuned-conll03-english'\n",
    "batch_size = 16\n",
    "\n",
    "datasets = load_dataset(\"conll2003\")\n",
    "\n",
    "label_list = datasets[\"train\"].features[f\"{task}_tags\"].feature.names\n",
    "\n",
    "print('label list:',label_list)\n",
    "tokenizer = AutoTokenizer.from_pretrained(model_checkpoint)\n",
    "config = AutoConfig.from_pretrained(model_checkpoint)\n",
    "assert isinstance(tokenizer, transformers.PreTrainedTokenizerFast)"
   ]
  },
  {
   "cell_type": "code",
   "execution_count": 6,
   "metadata": {
    "id": "N5OVeSXgu7-K"
   },
   "outputs": [],
   "source": [
    "label_all_tokens = True"
   ]
  },
  {
   "cell_type": "code",
   "execution_count": 7,
   "metadata": {
    "id": "gcih_9skvAm0"
   },
   "outputs": [],
   "source": [
    "def tokenize_and_align_labels(examples):\n",
    "    tokenized_inputs = tokenizer(examples[\"tokens\"], truncation=True, is_split_into_words=True,padding='max_length',max_length=128)\n",
    "\n",
    "    labels = []\n",
    "    for i, label in enumerate(examples[f\"{task}_tags\"]):\n",
    "        word_ids = tokenized_inputs.word_ids(batch_index=i)\n",
    "        previous_word_idx = None\n",
    "        label_ids = []\n",
    "        for word_idx in word_ids:\n",
    "            # Special tokens have a word id that is None. We set the label to 9 so they are automatically\n",
    "            # ignored in the loss function.\n",
    "            if word_idx is None:\n",
    "                label_ids.append(9)\n",
    "            # We set the label for the first token of each word.\n",
    "            elif word_idx != previous_word_idx:\n",
    "                label_ids.append(label[word_idx])\n",
    "            # For the other tokens in a word, we set the label to either the current label or -100, depending on\n",
    "            # the label_all_tokens flag.\n",
    "            else:\n",
    "                label_ids.append(label[word_idx] if label_all_tokens else 9)\n",
    "            previous_word_idx = word_idx\n",
    "\n",
    "        labels.append(label_ids)\n",
    "\n",
    "    tokenized_inputs[\"labels\"] = labels\n",
    "    return tokenized_inputs"
   ]
  },
  {
   "cell_type": "code",
   "execution_count": 8,
   "metadata": {
    "colab": {
     "base_uri": "https://localhost:8080/"
    },
    "id": "ikIBewPgvIQU",
    "outputId": "ad55c186-261a-42ce-8e78-ac28c8a77152"
   },
   "outputs": [
    {
     "name": "stderr",
     "output_type": "stream",
     "text": [
      "Loading cached processed dataset at C:\\Users\\a809913\\.cache\\huggingface\\datasets\\conll2003\\conll2003\\1.0.0\\40e7cb6bcc374f7c349c83acd1e9352a4f09474eb691f64f364ee62eb65d0ca6\\cache-9e80465d630019ab.arrow\n",
      "Loading cached processed dataset at C:\\Users\\a809913\\.cache\\huggingface\\datasets\\conll2003\\conll2003\\1.0.0\\40e7cb6bcc374f7c349c83acd1e9352a4f09474eb691f64f364ee62eb65d0ca6\\cache-53d20d6252e38c8c.arrow\n",
      "Loading cached processed dataset at C:\\Users\\a809913\\.cache\\huggingface\\datasets\\conll2003\\conll2003\\1.0.0\\40e7cb6bcc374f7c349c83acd1e9352a4f09474eb691f64f364ee62eb65d0ca6\\cache-35f4d68b9f67e65e.arrow\n"
     ]
    }
   ],
   "source": [
    "model_emb = AutoModel.from_pretrained(model_checkpoint)\n",
    "tokenized_datasets = datasets.map(tokenize_and_align_labels, batched=True)"
   ]
  },
  {
   "cell_type": "code",
   "execution_count": 9,
   "metadata": {},
   "outputs": [],
   "source": [
    "label_list.append('PAD')"
   ]
  },
  {
   "cell_type": "code",
   "execution_count": 10,
   "metadata": {
    "id": "zKuM6KH0aI1h"
   },
   "outputs": [],
   "source": [
    "input_ids_train = torch.tensor(tokenized_datasets[\"train\"][:250]['input_ids'])\n",
    "masks_train = torch.tensor(tokenized_datasets[\"train\"][:250]['attention_mask'])\n",
    "emb_train = model_emb(input_ids = input_ids_train, attention_mask=masks_train)\n",
    "label_train = torch.tensor(tokenized_datasets[\"train\"][:250]['labels'])"
   ]
  },
  {
   "cell_type": "code",
   "execution_count": 11,
   "metadata": {},
   "outputs": [
    {
     "data": {
      "text/plain": [
       "(torch.Size([250, 128, 768]), torch.Size([250, 128]))"
      ]
     },
     "execution_count": 11,
     "metadata": {},
     "output_type": "execute_result"
    }
   ],
   "source": [
    "emb_train['last_hidden_state'].shape , label_train.shape"
   ]
  },
  {
   "cell_type": "code",
   "execution_count": 12,
   "metadata": {},
   "outputs": [],
   "source": [
    "input_ids_test = torch.tensor(tokenized_datasets[\"train\"][250:350]['input_ids'])\n",
    "masks_test = torch.tensor(tokenized_datasets[\"train\"][250:350]['attention_mask'])\n",
    "emb_test = model_emb(input_ids = input_ids_test, attention_mask=masks_test)\n",
    "label_test = torch.tensor(tokenized_datasets[\"train\"][250:350]['labels'])"
   ]
  },
  {
   "cell_type": "code",
   "execution_count": 13,
   "metadata": {
    "colab": {
     "base_uri": "https://localhost:8080/"
    },
    "id": "5JuWP4wTTbiF",
    "outputId": "66c4160a-105e-47d6-aa8f-f4927ec04b37"
   },
   "outputs": [
    {
     "data": {
      "text/plain": [
       "(torch.Size([100, 128, 768]), torch.Size([100, 128]))"
      ]
     },
     "execution_count": 13,
     "metadata": {},
     "output_type": "execute_result"
    }
   ],
   "source": [
    "emb_test['last_hidden_state'].shape , label_test.shape"
   ]
  },
  {
   "cell_type": "code",
   "execution_count": 14,
   "metadata": {
    "id": "ItgDl4ySMsbj"
   },
   "outputs": [],
   "source": [
    "x_train = tensorflow.convert_to_tensor(emb_train['last_hidden_state'].detach().numpy())\n",
    "y_train = tensorflow.convert_to_tensor(label_train.detach().numpy())\n",
    "\n",
    "x_test = tensorflow.convert_to_tensor(emb_test['last_hidden_state'].detach().numpy())\n",
    "y_test = tensorflow.convert_to_tensor(label_test.detach().numpy())"
   ]
  },
  {
   "cell_type": "code",
   "execution_count": 15,
   "metadata": {
    "colab": {
     "base_uri": "https://localhost:8080/"
    },
    "id": "JRc8nSUegfNP",
    "outputId": "c789031e-b4f6-4bfa-f3e7-366e12d84aa8"
   },
   "outputs": [
    {
     "data": {
      "text/plain": [
       "(TensorShape([250, 128, 768]), TensorShape([100, 128, 768]))"
      ]
     },
     "execution_count": 15,
     "metadata": {},
     "output_type": "execute_result"
    }
   ],
   "source": [
    "x_train.shape, x_test.shape"
   ]
  },
  {
   "cell_type": "code",
   "execution_count": 16,
   "metadata": {},
   "outputs": [],
   "source": [
    "tokenizer.save_pretrained('./tokenizer')\n",
    "config.save_pretrained('./tokenizer')\n",
    "model_emb.save_pretrained('./Emb_model')"
   ]
  },
  {
   "cell_type": "code",
   "execution_count": 17,
   "metadata": {},
   "outputs": [],
   "source": [
    "import pickle\n",
    "\n",
    "with open('label_list', 'wb') as fp:\n",
    "    pickle.dump(label_list, fp)"
   ]
  },
  {
   "cell_type": "code",
   "execution_count": 18,
   "metadata": {},
   "outputs": [
    {
     "data": {
      "text/plain": [
       "['O',\n",
       " 'B-PER',\n",
       " 'I-PER',\n",
       " 'B-ORG',\n",
       " 'I-ORG',\n",
       " 'B-LOC',\n",
       " 'I-LOC',\n",
       " 'B-MISC',\n",
       " 'I-MISC',\n",
       " 'PAD']"
      ]
     },
     "execution_count": 18,
     "metadata": {},
     "output_type": "execute_result"
    }
   ],
   "source": [
    "with open ('label_list', 'rb') as fp:\n",
    "    itemlist = pickle.load(fp)\n",
    "itemlist"
   ]
  },
  {
   "cell_type": "code",
   "execution_count": 19,
   "metadata": {
    "colab": {
     "base_uri": "https://localhost:8080/"
    },
    "id": "k2Lzx75Y68XR",
    "outputId": "20c5e57a-1393-4854-ec67-56ab58782599"
   },
   "outputs": [
    {
     "name": "stdout",
     "output_type": "stream",
     "text": [
      "Model: \"model\"\n",
      "_________________________________________________________________\n",
      "Layer (type)                 Output Shape              Param #   \n",
      "=================================================================\n",
      "input_1 (InputLayer)         [(None, 128, 768)]        0         \n",
      "_________________________________________________________________\n",
      "dense (Dense)                (None, 128, 200)          153800    \n",
      "_________________________________________________________________\n",
      "dense_1 (Dense)              (None, 128, 10)           2010      \n",
      "=================================================================\n",
      "Total params: 155,810\n",
      "Trainable params: 155,810\n",
      "Non-trainable params: 0\n",
      "_________________________________________________________________\n"
     ]
    }
   ],
   "source": [
    "max_len = 128\n",
    "input_word = Input(shape=(max_len,768))\n",
    "model = Dense(200)(input_word)\n",
    "out = Dense(10, activation=\"softmax\")(model)\n",
    "model = Model(input_word, out)\n",
    "model.summary()\n",
    "optimizer = tf.keras.optimizers.Adam(learning_rate=0.01)\n",
    "loss = tf.keras.losses.SparseCategoricalCrossentropy(from_logits=True)\n",
    "metric = tf.keras.metrics.SparseCategoricalAccuracy('f1')\n",
    "model.compile(optimizer=optimizer, loss=loss, metrics=[metric])"
   ]
  },
  {
   "cell_type": "code",
   "execution_count": 20,
   "metadata": {
    "id": "NPFq1sRi8hgm"
   },
   "outputs": [],
   "source": [
    "early_stopping = EarlyStopping(monitor='f1', min_delta=0, patience=5, verbose=0, mode='max', baseline=None, restore_best_weights=False)\n",
    "callbacks = [PlotLossesCallback(), early_stopping]"
   ]
  },
  {
   "cell_type": "code",
   "execution_count": null,
   "metadata": {},
   "outputs": [],
   "source": [
    "\n"
   ]
  },
  {
   "cell_type": "code",
   "execution_count": 21,
   "metadata": {
    "colab": {
     "base_uri": "https://localhost:8080/",
     "height": 596
    },
    "id": "bUgY69Z-8j3C",
    "outputId": "c1147025-23f1-416c-ee14-4cc527be2f2f"
   },
   "outputs": [
    {
     "data": {
      "image/png": "[encoded data removed]",
      "text/plain": [
       "<Figure size 864x576 with 2 Axes>"
      ]
     },
     "metadata": {},
     "output_type": "display_data"
    },
    {
     "name": "stdout",
     "output_type": "stream",
     "text": [
      "f1\n",
      "\ttraining         \t (min:    0.112, max:    0.986, cur:    0.986)\n",
      "\tvalidation       \t (min:    0.844, max:    0.983, cur:    0.981)\n",
      "Loss\n",
      "\ttraining         \t (min:    0.041, max:    3.271, cur:    0.041)\n",
      "\tvalidation       \t (min:    0.058, max:    1.496, cur:    0.058)\n",
      "INFO:tensorflow:Assets written to: C:\\Users\\a809913\\AppData\\Local\\Temp\\tmp_w0pa77n\\model\\data\\model\\assets\n",
      "1/1 [==============================] - 0s 85ms/step - loss: 0.0580 - f1: 0.9812\n"
     ]
    }
   ],
   "source": [
    "mlflow.set_tracking_uri(\"https://localhost:8000\")\n",
    "mlflow.tensorflow.autolog()\n",
    "with mlflow.start_run() as run :\n",
    "    run_uuid = run.info.run_uuid\n",
    "    print(\"MLflow Run ID: %s\" % run_uuid)\n",
    "    start = time.time()\n",
    "    history = model.fit(\n",
    "          x = x_train,\n",
    "          y = y_train,\n",
    "          validation_data=(x_test,y_test),\n",
    "          batch_size=220, \n",
    "          epochs=30,\n",
    "          callbacks=callbacks,\n",
    "          verbose=1,\n",
    "      )\n",
    "    mlflow.log_metric(\"Training time\", time.time() - start)\n",
    "    results = model.evaluate(x = x_test, y=y_test, steps=1,  batch_size=220)\n",
    "    mlflow.log_metric(\"test_loss\", results[0])\n",
    "    mlflow.log_metric(\"test_F1\", results[1])\n",
    "    \n",
    "    mlflow.log_artifact(\"label_list\", artifact_path=\"label_list\")\n",
    "    \n",
    "    if os.path.exists(\"./Drift_model\"):\n",
    "        mlflow.log_artifacts(\"./Drift_model\", artifact_path=\"drift\")\n",
    "        \n",
    "    if os.path.exists(\"./Emb_model\"):\n",
    "        mlflow.log_artifacts(\"./Emb_model\", artifact_path=\"emb\")\n",
    "        \n",
    "    if os.path.exists(\"./tokenizer\"):\n",
    "        mlflow.log_artifacts(\"./tokenizer\", artifact_path=\"tokenizer\")"
   ]
  },
  {
   "cell_type": "code",
   "execution_count": 22,
   "metadata": {
    "id": "uVADKWgejvOL"
   },
   "outputs": [],
   "source": [
    "idx = 90"
   ]
  },
  {
   "cell_type": "code",
   "execution_count": 23,
   "metadata": {
    "colab": {
     "base_uri": "https://localhost:8080/",
     "height": 35
    },
    "id": "ZkBf9d4OhIGK",
    "outputId": "b87fc5e6-9112-4429-a0e1-4bed330a08ff"
   },
   "outputs": [
    {
     "data": {
      "text/plain": [
       "'Port conditions update - Syria - Lloyds Shipping .'"
      ]
     },
     "execution_count": 23,
     "metadata": {},
     "output_type": "execute_result"
    }
   ],
   "source": [
    "sentence = ' '.join(tokenized_datasets[\"train\"][idx]['tokens'])\n",
    "sentence"
   ]
  },
  {
   "cell_type": "code",
   "execution_count": 24,
   "metadata": {
    "id": "wr8auEHshN-R"
   },
   "outputs": [],
   "source": [
    "input_id = torch.tensor(tokenized_datasets[\"train\"][idx:idx+1]['input_ids'])\n",
    "mask = torch.tensor(tokenized_datasets[\"train\"][idx:idx+1]['attention_mask'])"
   ]
  },
  {
   "cell_type": "code",
   "execution_count": 25,
   "metadata": {
    "id": "AJLZ3pYYhXse"
   },
   "outputs": [],
   "source": [
    "x = tensorflow.convert_to_tensor(model_emb(input_ids=input_id,attention_mask=mask)['last_hidden_state'].detach().numpy())"
   ]
  },
  {
   "cell_type": "code",
   "execution_count": 26,
   "metadata": {
    "id": "TXGJlZQJSXmt"
   },
   "outputs": [],
   "source": [
    "y = model(x)"
   ]
  },
  {
   "cell_type": "code",
   "execution_count": 27,
   "metadata": {
    "id": "qeOtiUyrUHJZ"
   },
   "outputs": [],
   "source": [
    "y = tf.argmax(y,axis=-1).numpy().squeeze().tolist()"
   ]
  },
  {
   "cell_type": "code",
   "execution_count": 28,
   "metadata": {
    "id": "pQBizuajkfO2"
   },
   "outputs": [],
   "source": [
    "words = tokenizer.convert_ids_to_tokens(tokenized_datasets[\"train\"][idx]['input_ids'])"
   ]
  },
  {
   "cell_type": "code",
   "execution_count": 29,
   "metadata": {
    "colab": {
     "base_uri": "https://localhost:8080/"
    },
    "id": "hKV_RBGVmDTq",
    "outputId": "2b20cfcc-66c7-461c-cefa-dcf9aba9c3b6"
   },
   "outputs": [
    {
     "data": {
      "text/plain": [
       "['O',\n",
       " 'B-PER',\n",
       " 'I-PER',\n",
       " 'B-ORG',\n",
       " 'I-ORG',\n",
       " 'B-LOC',\n",
       " 'I-LOC',\n",
       " 'B-MISC',\n",
       " 'I-MISC',\n",
       " 'PAD']"
      ]
     },
     "execution_count": 29,
     "metadata": {},
     "output_type": "execute_result"
    }
   ],
   "source": [
    "label_list"
   ]
  },
  {
   "cell_type": "code",
   "execution_count": 30,
   "metadata": {
    "id": "h_GHE1iCkVOO"
   },
   "outputs": [],
   "source": [
    "l=[]\n",
    "for i in range (len(words)):\n",
    "    if words[i] != '[PAD]' : \n",
    "        l.append({words[i]:label_list[y[i]]})\n"
   ]
  },
  {
   "cell_type": "code",
   "execution_count": 31,
   "metadata": {
    "colab": {
     "base_uri": "https://localhost:8080/"
    },
    "id": "YZhebLgfmh0m",
    "outputId": "12a0e411-4a22-4148-e398-804ae76bbcdc"
   },
   "outputs": [
    {
     "data": {
      "text/plain": [
       "[{'[CLS]': 'PAD'},\n",
       " {'Port': 'O'},\n",
       " {'conditions': 'O'},\n",
       " {'update': 'O'},\n",
       " {'-': 'O'},\n",
       " {'Syria': 'B-LOC'},\n",
       " {'-': 'O'},\n",
       " {'Lloyd': 'PAD'},\n",
       " {'##s': 'B-ORG'},\n",
       " {'Shipping': 'I-ORG'},\n",
       " {'.': 'PAD'},\n",
       " {'[SEP]': 'PAD'}]"
      ]
     },
     "execution_count": 31,
     "metadata": {},
     "output_type": "execute_result"
    }
   ],
   "source": [
    "l"
   ]
  },
  {
   "cell_type": "code",
   "execution_count": 32,
   "metadata": {
    "colab": {
     "base_uri": "https://localhost:8080/"
    },
    "id": "z9K8qI_Rmick",
    "outputId": "f613f3cf-073d-4f43-d4c0-3522f08ad940"
   },
   "outputs": [],
   "source": [
    "#!zip -r mlruns.zip mlruns/"
   ]
  },
  {
   "cell_type": "code",
   "execution_count": 33,
   "metadata": {
    "colab": {
     "base_uri": "https://localhost:8080/",
     "height": 16
    },
    "id": "Jq-hObLqoCoY",
    "outputId": "1ee03207-446e-41f7-ddb5-9ac981d7f93f"
   },
   "outputs": [
    {
     "data": {
      "text/plain": [
       "\"from google.colab import files\\nfiles.download('mlruns.zip')\\nfiles.download('mlruns.db')\""
      ]
     },
     "execution_count": 33,
     "metadata": {},
     "output_type": "execute_result"
    }
   ],
   "source": [
    "\"\"\"from google.colab import files\n",
    "files.download('mlruns.zip')\n",
    "files.download('mlruns.db')\"\"\""
   ]
  },
  {
   "cell_type": "code",
   "execution_count": 34,
   "metadata": {
    "id": "8KuOSCmpoTGE"
   },
   "outputs": [],
   "source": [
    "text = [\"John lives in Paris, which is the capital and most populous city of France\"]\n",
    "\n",
    "def preproccess(text,tokenizer,model,max_len):\n",
    "    tokenized = tokenizer(text, truncation=True, padding='max_length',max_length=max_len)\n",
    "    input_id = torch.tensor(tokenized['input_ids'])\n",
    "    mask = torch.tensor(tokenized['attention_mask'])\n",
    "    out = model_emb(input_ids = input_id, attention_mask=mask)['last_hidden_state']\n",
    "    return  tensorflow.convert_to_tensor(out.detach().numpy()),input_id.numpy().squeeze().tolist(),mask.numpy().squeeze().tolist()\n",
    "\n",
    "def predict(text,model,tokenizer,model_emb,max_len,label_list):\n",
    "    input =  preproccess(text,tokenizer,model_emb,max_len)\n",
    "    y = model(input[0])\n",
    "    y = tf.argmax(y,axis=-1).numpy().squeeze().tolist()\n",
    "    words = tokenizer.convert_ids_to_tokens(input[1])\n",
    "    l=[]\n",
    "    for i in range (len(words)):\n",
    "        if input[2][i] == 0 :\n",
    "            break\n",
    "        l.append({words[i]:label_list[y[i]]})\n",
    "    return l\n",
    "    "
   ]
  },
  {
   "cell_type": "code",
   "execution_count": 35,
   "metadata": {},
   "outputs": [
    {
     "data": {
      "text/plain": [
       "[{'[CLS]': 'PAD'},\n",
       " {'John': 'B-PER'},\n",
       " {'lives': 'O'},\n",
       " {'in': 'O'},\n",
       " {'Paris': 'B-LOC'},\n",
       " {',': 'O'},\n",
       " {'which': 'O'},\n",
       " {'is': 'O'},\n",
       " {'the': 'O'},\n",
       " {'capital': 'O'},\n",
       " {'and': 'O'},\n",
       " {'most': 'O'},\n",
       " {'populous': 'O'},\n",
       " {'city': 'O'},\n",
       " {'of': 'O'},\n",
       " {'France': 'B-LOC'},\n",
       " {'[SEP]': 'PAD'}]"
      ]
     },
     "execution_count": 35,
     "metadata": {},
     "output_type": "execute_result"
    }
   ],
   "source": [
    "predict(text,model,AutoTokenizer.from_pretrained('tokenizer/'),AutoModel.from_pretrained('Emb_model/'),max_len,label_list)"
   ]
  },
  {
   "cell_type": "code",
   "execution_count": null,
   "metadata": {},
   "outputs": [],
   "source": []
  },
  {
   "cell_type": "code",
   "execution_count": null,
   "metadata": {},
   "outputs": [],
   "source": []
  }
 ],
 "metadata": {
  "accelerator": "GPU",
  "colab": {
   "collapsed_sections": [],
   "name": "Ner_Pipeline.ipynb",
   "provenance": []
  },
  "kernelspec": {
   "display_name": "pipe",
   "language": "python",
   "name": "pipe"
  },
  "language_info": {
   "codemirror_mode": {
    "name": "ipython",
    "version": 3
   },
   "file_extension": ".py",
   "mimetype": "text/x-python",
   "name": "python",
   "nbconvert_exporter": "python",
   "pygments_lexer": "ipython3",
   "version": "3.8.8"
  }
 },
 "nbformat": 4,
 "nbformat_minor": 4
}
